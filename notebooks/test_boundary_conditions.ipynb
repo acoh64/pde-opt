{
 "cells": [
  {
   "cell_type": "code",
   "execution_count": 1,
   "metadata": {},
   "outputs": [],
   "source": [
    "import jax.numpy as jnp\n",
    "from pde_opt.numerics.utils.derivatives import laplacian\n",
    "from pde_opt.numerics.utils.boundary_conditions import get_neighbor_indices"
   ]
  },
  {
   "cell_type": "code",
   "execution_count": 2,
   "metadata": {},
   "outputs": [],
   "source": [
    "import jax.numpy as jnp\n",
    "from pde_opt.numerics.utils.derivatives import laplacian\n",
    "\n",
    "# 1D with periodic BCs\n",
    "lap_1d = laplacian(dx=0.1, boundary_conditions={0: ('periodic', None)})\n",
    "\n",
    "# 2D with mixed BCs\n",
    "lap_2d = laplacian(dx=(0.1, 0.1), boundary_conditions={\n",
    "    0: ('dirichlet', 0.0),      # y-axis: zero Dirichlet\n",
    "    1: ('periodic', None)       # x-axis: periodic\n",
    "})\n",
    "\n",
    "# 3D with Neumann BCs\n",
    "lap_3d = laplacian(dx=(0.1, 0.1, 0.1), boundary_conditions={\n",
    "    0: ('neumann', 0.0),        # z-axis: zero Neumann\n",
    "    1: ('neumann', 0.0),        # y-axis: zero Neumann\n",
    "    2: ('periodic', None)       # x-axis: periodic\n",
    "})"
   ]
  },
  {
   "cell_type": "code",
   "execution_count": 3,
   "metadata": {},
   "outputs": [],
   "source": [
    "test = jnp.array([1, 2, 3])\n"
   ]
  },
  {
   "cell_type": "code",
   "execution_count": 4,
   "metadata": {},
   "outputs": [
    {
     "data": {
      "text/plain": [
       "Array([ 299.99997,    0.     , -299.99997], dtype=float32)"
      ]
     },
     "execution_count": 4,
     "metadata": {},
     "output_type": "execute_result"
    }
   ],
   "source": [
    "lap_1d(test)"
   ]
  },
  {
   "cell_type": "code",
   "execution_count": 5,
   "metadata": {},
   "outputs": [
    {
     "data": {
      "text/plain": [
       "Array([ 300.,    0., -300.], dtype=float32, weak_type=True)"
      ]
     },
     "execution_count": 5,
     "metadata": {},
     "output_type": "execute_result"
    }
   ],
   "source": [
    "mat = jnp.array([[-2, 1, 1], [1, -2, 1], [1, 1, -2]]) / 0.1**2\n",
    "mat @ test"
   ]
  },
  {
   "cell_type": "code",
   "execution_count": 14,
   "metadata": {},
   "outputs": [],
   "source": [
    "# For 2D field (10, 10) with boundary on x-axis\n",
    "boundary_values = jnp.array([1.0, 1.0, 1.0])\n",
    "\n",
    "lap_op = laplacian(dx=(0.1, 0.1), boundary_conditions={\n",
    "    1: ('dirichlet', boundary_values)  # x-axis boundary\n",
    "})"
   ]
  },
  {
   "cell_type": "code",
   "execution_count": 15,
   "metadata": {},
   "outputs": [],
   "source": [
    "tmp = jnp.ones((3, 3))\n"
   ]
  },
  {
   "cell_type": "code",
   "execution_count": 16,
   "metadata": {},
   "outputs": [
    {
     "data": {
      "text/plain": [
       "Array([[-100., -100., -100.],\n",
       "       [   0.,    0.,    0.],\n",
       "       [-100., -100., -100.]], dtype=float32)"
      ]
     },
     "execution_count": 16,
     "metadata": {},
     "output_type": "execute_result"
    }
   ],
   "source": [
    "lap_op(tmp, 0.0)"
   ]
  },
  {
   "cell_type": "code",
   "execution_count": null,
   "metadata": {},
   "outputs": [],
   "source": []
  }
 ],
 "metadata": {
  "kernelspec": {
   "display_name": "Python 3",
   "language": "python",
   "name": "python3"
  },
  "language_info": {
   "codemirror_mode": {
    "name": "ipython",
    "version": 3
   },
   "file_extension": ".py",
   "mimetype": "text/x-python",
   "name": "python",
   "nbconvert_exporter": "python",
   "pygments_lexer": "ipython3",
   "version": "3.10.18"
  }
 },
 "nbformat": 4,
 "nbformat_minor": 2
}
