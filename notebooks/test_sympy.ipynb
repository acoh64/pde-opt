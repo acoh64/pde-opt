{
 "cells": [
  {
   "cell_type": "code",
   "execution_count": 1,
   "metadata": {},
   "outputs": [],
   "source": [
    "import numpy as np\n",
    "import sympy as sp\n",
    "from sympy.utilities.lambdify import lambdify\n",
    "\n",
    "# symbols\n",
    "x, y, t = sp.symbols('x y t', real=True)\n",
    "ax, ay, nu = sp.symbols('ax ay nu', real=True)\n",
    "\n",
    "# manufactured solution (smooth, periodic-friendly)\n",
    "u_star = sp.sin(2*x) * sp.cos(3*y) * sp.exp(-t)\n",
    "\n",
    "# define your RHS operator F[u] symbolically\n",
    "ux  = sp.diff(u_star, x)\n",
    "uy  = sp.diff(u_star, y)\n",
    "uxx = sp.diff(u_star, x, 2)\n",
    "uyy = sp.diff(u_star, y, 2)\n",
    "\n",
    "# Example: F[u] = - (a·∇u) + ν Δu   (right-hand-side of du/dt = F[u])\n",
    "F_sym = -(ax*ux + ay*uy) + nu*(uxx + uyy)\n",
    "\n",
    "# turn into fast NumPy-callable\n",
    "F_fn  = lambdify((x, y, t, ax, ay, nu), sp.simplify(F_sym), 'numpy')\n",
    "u_fn  = lambdify((x, y, t), u_star, 'numpy')\n"
   ]
  },
  {
   "cell_type": "code",
   "execution_count": 2,
   "metadata": {},
   "outputs": [],
   "source": [
    "# YOU provide this. It should compute F_h[u] on a uniform grid.\n",
    "# u: (Ny, Nx) array on cell centers, dx==dy==h, periodic shown below\n",
    "def numeric_rhs(u, h, ax, ay, nu):\n",
    "    # example: 2nd-order central Laplacian + 1st-order upwind advection (replace with yours)\n",
    "    def roll(a, s, axis): return np.roll(a, s, axis=axis)\n",
    "    # gradients (1st-order upwind for illustration)\n",
    "    dux = np.where(ax >= 0, (u - roll(u, 1, 1))/h, (roll(u, -1, 1)-u)/h)\n",
    "    duy = np.where(ay >= 0, (u - roll(u, 1, 0))/h, (roll(u, -1, 0)-u)/h)\n",
    "    # Laplacian (2nd-order central)\n",
    "    lap = (roll(u,1,1)+roll(u,-1,1)+roll(u,1,0)+roll(u,-1,0)-4*u)/h**2\n",
    "    return -(ax*dux + ay*duy) + nu*lap\n"
   ]
  },
  {
   "cell_type": "code",
   "execution_count": 3,
   "metadata": {},
   "outputs": [
    {
     "name": "stdout",
     "output_type": "stream",
     "text": [
      "h: [0.19634954084936207, 0.09817477042468103, 0.04908738521234052, 0.02454369260617026]\n",
      "||F_h[u*]-F[u*]||: [np.float64(0.3779685940501155), np.float64(0.19242750274093334), np.float64(0.09682945645858029), np.float64(0.048537029788524616)]\n",
      "EOC (between successive grids): [0.97395135 0.99079711 0.99636017]\n"
     ]
    }
   ],
   "source": [
    "def eoc_from_errors(hs, errs):\n",
    "    hs = np.array(hs, dtype=float); errs = np.array(errs, dtype=float)\n",
    "    return np.log(errs[:-1]/errs[1:]) / np.log(hs[:-1]/hs[1:])\n",
    "\n",
    "def l2_err(a, b, h):  # discrete L2 norm\n",
    "    return np.sqrt(np.mean((a-b)**2))  # (scales the same way for EOC)\n",
    "\n",
    "# parameters & test time\n",
    "params = dict(ax=1.1, ay=-0.7, nu=0.05)\n",
    "t0 = 0.3\n",
    "\n",
    "sizes = [32, 64, 128, 256]   # refine by 2×\n",
    "errs  = []; hs = []\n",
    "for N in sizes:\n",
    "    # domain [0, 2π]×[0, 2π] (periodic example)\n",
    "    Lx = Ly = 2*np.pi\n",
    "    Nx = Ny = N\n",
    "    xs = np.linspace(0, Lx, Nx, endpoint=False)\n",
    "    ys = np.linspace(0, Ly, Ny, endpoint=False)\n",
    "    X, Y = np.meshgrid(xs, ys, indexing='xy')\n",
    "    h = Lx/Nx  # = Ly/Ny\n",
    "\n",
    "    u_exact = u_fn(X, Y, t0)\n",
    "    F_exact = F_fn(X, Y, t0, params['ax'], params['ay'], params['nu'])\n",
    "    F_num   = numeric_rhs(u_exact, h, **params)\n",
    "\n",
    "    errs.append(l2_err(F_num, F_exact, h))\n",
    "    hs.append(h)\n",
    "\n",
    "eoc = eoc_from_errors(hs, errs)\n",
    "print(\"h:\", hs)\n",
    "print(\"||F_h[u*]-F[u*]||:\", errs)\n",
    "print(\"EOC (between successive grids):\", eoc)\n"
   ]
  },
  {
   "cell_type": "code",
   "execution_count": null,
   "metadata": {},
   "outputs": [],
   "source": []
  }
 ],
 "metadata": {
  "kernelspec": {
   "display_name": "Python 3",
   "language": "python",
   "name": "python3"
  },
  "language_info": {
   "codemirror_mode": {
    "name": "ipython",
    "version": 3
   },
   "file_extension": ".py",
   "mimetype": "text/x-python",
   "name": "python",
   "nbconvert_exporter": "python",
   "pygments_lexer": "ipython3",
   "version": "3.10.18"
  }
 },
 "nbformat": 4,
 "nbformat_minor": 2
}
