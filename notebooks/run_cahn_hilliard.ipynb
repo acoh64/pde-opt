{
 "cells": [
  {
   "cell_type": "code",
   "execution_count": null,
   "metadata": {},
   "outputs": [],
   "source": [
    "import diffrax\n",
    "import jax\n",
    "import jax.numpy as jnp\n",
    "import numpy as np\n",
    "from jax import random\n",
    "\n",
    "from pde_opt.numerics.domains import Domain\n",
    "from pde_opt.numerics.equations.cahn_hilliard import CahnHilliard2DPeriodic\n",
    "from pde_opt.numerics.solvers import SemiImplicitFourierSpectral"
   ]
  },
  {
   "cell_type": "code",
   "execution_count": null,
   "metadata": {},
   "outputs": [],
   "source": [
    "\n",
    "Nx, Ny = 256, 256\n",
    "Lx = 0.01 * Nx\n",
    "Ly = 0.01 * Ny\n",
    "domain = Domain((Nx, Ny), ((-Lx / 2, Lx / 2), (-Ly / 2, Ly / 2)), \"dimensionless\")\n",
    "\n",
    "t_start = 0.0\n",
    "t_final = 0.2\n",
    "dt = 0.000001\n",
    "\n",
    "ts_save = jnp.linspace(t_start, t_final, 200)\n",
    "\n",
    "kappa = 0.002\n",
    "\n",
    "\n"
   ]
  },
  {
   "cell_type": "code",
   "execution_count": null,
   "metadata": {},
   "outputs": [],
   "source": [
    "eq = CahnHilliard2DPeriodic(\n",
    "    domain,\n",
    "    kappa,\n",
    "    lambda c: jnp.log(c / (1.0 - c)) + 3.0 * (1.0 - 2.0 * c),\n",
    "    lambda c: (1.0 - c) * c,\n",
    "    derivs=\"fd\"\n",
    ")\n",
    "\n",
    "solver = SemiImplicitFourierSpectral(0.5, eq.fourier_symbol, eq.fft, eq.ifft)\n",
    "\n"
   ]
  },
  {
   "cell_type": "code",
   "execution_count": null,
   "metadata": {},
   "outputs": [],
   "source": [
    "key = random.PRNGKey(0)\n",
    "u0 = 0.5 * jnp.ones((Nx, Ny)) + 0.01 * random.normal(key, (Nx, Ny))\n",
    "\n",
    "solution = diffrax.diffeqsolve(\n",
    "    diffrax.ODETerm(jax.jit(lambda t, y, args: eq.rhs(y, t))),\n",
    "    solver,\n",
    "    t0=t_start,\n",
    "    t1=t_final,\n",
    "    dt0=dt,\n",
    "    y0=u0,\n",
    "    # stepsize_controller=diffrax.PIDController(rtol=1e-4, atol=1e-6),\n",
    "    saveat=diffrax.SaveAt(ts=ts_save),\n",
    "    max_steps=1000000,\n",
    ")\n",
    "\n",
    "print(solution.stats)\n",
    "\n",
    "print(jnp.mean(solution.ys[0]))\n",
    "print(jnp.mean(solution.ys[-1]))"
   ]
  },
  {
   "cell_type": "code",
   "execution_count": null,
   "metadata": {},
   "outputs": [],
   "source": [
    "import matplotlib.pyplot as plt\n",
    "from IPython.display import HTML\n",
    "import matplotlib.animation as animation\n",
    "\n",
    "fig, ax = plt.subplots(figsize=(4,4))\n",
    "\n",
    "ims = []\n",
    "for i in range(0, len(solution.ys), 2):\n",
    "    im = ax.imshow(solution.ys[i], animated=True, cmap='RdBu', \n",
    "                   vmin=0.0, vmax=1.0,\n",
    "                   extent=[domain.box[0][0], domain.box[0][1], \n",
    "                          domain.box[1][0], domain.box[1][1]])\n",
    "    ims.append([im])\n",
    "\n",
    "ani = animation.ArtistAnimation(fig, ims, interval=50, blit=True)\n",
    "\n",
    "plt.title('Cahn-Hilliard Evolution')\n",
    "plt.xlabel('x')\n",
    "plt.ylabel('y')\n",
    "\n",
    "plt.close()\n",
    "\n",
    "HTML(ani.to_jshtml())\n"
   ]
  },
  {
   "cell_type": "code",
   "execution_count": null,
   "metadata": {},
   "outputs": [],
   "source": []
  }
 ],
 "metadata": {
  "kernelspec": {
   "display_name": "Python 3",
   "language": "python",
   "name": "python3"
  },
  "language_info": {
   "codemirror_mode": {
    "name": "ipython",
    "version": 3
   },
   "file_extension": ".py",
   "mimetype": "text/x-python",
   "name": "python",
   "nbconvert_exporter": "python",
   "pygments_lexer": "ipython3",
   "version": "3.10.18"
  }
 },
 "nbformat": 4,
 "nbformat_minor": 2
}
